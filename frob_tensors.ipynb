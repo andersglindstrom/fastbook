{
 "cells": [
  {
   "cell_type": "code",
   "execution_count": 2,
   "id": "b6071a07-55d9-4586-bcc9-95993a1480cc",
   "metadata": {},
   "outputs": [],
   "source": [
    "from fastbook import *"
   ]
  },
  {
   "cell_type": "markdown",
   "id": "6fa3c834-737e-4e4c-baaa-ddd7bac7e5ea",
   "metadata": {},
   "source": [
    "# Tensors"
   ]
  },
  {
   "cell_type": "code",
   "execution_count": 3,
   "id": "571f449f-6668-45b2-bd0d-3e4f723d6c97",
   "metadata": {},
   "outputs": [],
   "source": [
    "t = tensor([[[1,2],[3,4]],[[5,6],[7,8]]]).float()"
   ]
  },
  {
   "cell_type": "code",
   "execution_count": 4,
   "id": "16c08488-55d6-4a6d-88a3-9277ad474bbc",
   "metadata": {},
   "outputs": [
    {
     "data": {
      "text/plain": [
       "tensor([[[1., 2.],\n",
       "         [3., 4.]],\n",
       "\n",
       "        [[5., 6.],\n",
       "         [7., 8.]]])"
      ]
     },
     "execution_count": 4,
     "metadata": {},
     "output_type": "execute_result"
    }
   ],
   "source": [
    "t"
   ]
  },
  {
   "cell_type": "code",
   "execution_count": 5,
   "id": "94077c98-95f1-4931-99a6-bb0deef2d9a8",
   "metadata": {},
   "outputs": [
    {
     "data": {
      "text/plain": [
       "tensor([4., 5.])"
      ]
     },
     "execution_count": 5,
     "metadata": {},
     "output_type": "execute_result"
    }
   ],
   "source": [
    "t.mean((0,1))"
   ]
  },
  {
   "cell_type": "code",
   "execution_count": 6,
   "id": "550876c5-f5ed-4a18-abac-3720dda5f0cb",
   "metadata": {},
   "outputs": [
    {
     "data": {
      "text/plain": [
       "tensor([[[1., 2.],\n",
       "         [3., 4.]],\n",
       "\n",
       "        [[5., 6.],\n",
       "         [7., 8.]]])"
      ]
     },
     "execution_count": 6,
     "metadata": {},
     "output_type": "execute_result"
    }
   ],
   "source": [
    "t"
   ]
  },
  {
   "cell_type": "markdown",
   "id": "235a917e-e26d-4e45-8378-ea8e2028c7fa",
   "metadata": {},
   "source": [
    "# Matrix Multiplication"
   ]
  },
  {
   "cell_type": "code",
   "execution_count": 9,
   "id": "3e83cd51-c3af-4071-b963-c67e1c813c50",
   "metadata": {},
   "outputs": [
    {
     "data": {
      "text/plain": [
       "tensor([[[ 1.,  4.],\n",
       "         [ 9., 16.]],\n",
       "\n",
       "        [[25., 36.],\n",
       "         [49., 64.]]])"
      ]
     },
     "execution_count": 9,
     "metadata": {},
     "output_type": "execute_result"
    }
   ],
   "source": [
    "t*t"
   ]
  },
  {
   "cell_type": "code",
   "execution_count": 11,
   "id": "229a158c-c2a0-4e14-9e90-201e9fe517d1",
   "metadata": {},
   "outputs": [
    {
     "data": {
      "text/plain": [
       "tensor([[[  7.,  10.],\n",
       "         [ 15.,  22.]],\n",
       "\n",
       "        [[ 67.,  78.],\n",
       "         [ 91., 106.]]])"
      ]
     },
     "execution_count": 11,
     "metadata": {},
     "output_type": "execute_result"
    }
   ],
   "source": [
    "t@t"
   ]
  },
  {
   "cell_type": "code",
   "execution_count": 12,
   "id": "3d89f1a6-d4f2-4092-a0e6-648fe1f9691c",
   "metadata": {},
   "outputs": [],
   "source": [
    "m1 = tensor([[2, 3],[4, 5]])"
   ]
  },
  {
   "cell_type": "code",
   "execution_count": 15,
   "id": "3f3015d7-33a1-4662-ab32-2d9f2065d6e7",
   "metadata": {},
   "outputs": [],
   "source": [
    "v1 = tensor([[1], [1]])"
   ]
  },
  {
   "cell_type": "code",
   "execution_count": 16,
   "id": "09f65799-a4d3-4aa6-862c-8c36207337d4",
   "metadata": {},
   "outputs": [
    {
     "data": {
      "text/plain": [
       "tensor([[5],\n",
       "        [9]])"
      ]
     },
     "execution_count": 16,
     "metadata": {},
     "output_type": "execute_result"
    }
   ],
   "source": [
    "m1 @ v1"
   ]
  },
  {
   "cell_type": "code",
   "execution_count": 18,
   "id": "1791b668-ef51-42c3-b9a8-6eeeb2f4d232",
   "metadata": {},
   "outputs": [
    {
     "name": "stdout",
     "output_type": "stream",
     "text": [
      "Help on built-in function __matmul__:\n",
      "\n",
      "__matmul__(...) method of torch.Tensor instance\n",
      "\n"
     ]
    }
   ],
   "source": [
    "help(m1.__matmul__)"
   ]
  }
 ],
 "metadata": {
  "kernelspec": {
   "display_name": "Python 3 (ipykernel)",
   "language": "python",
   "name": "python3"
  },
  "language_info": {
   "codemirror_mode": {
    "name": "ipython",
    "version": 3
   },
   "file_extension": ".py",
   "mimetype": "text/x-python",
   "name": "python",
   "nbconvert_exporter": "python",
   "pygments_lexer": "ipython3",
   "version": "3.12.10"
  }
 },
 "nbformat": 4,
 "nbformat_minor": 5
}
